{
 "cells": [
  {
   "cell_type": "markdown",
   "metadata": {},
   "source": [
    "Python class to convert a roman numeral to an integer. "
   ]
  },
  {
   "cell_type": "code",
   "execution_count": 31,
   "metadata": {},
   "outputs": [],
   "source": [
    "class ConvertToInteger(object):\n",
    "    \"\"\"Converts a roman numeral to an integer\"\"\"\n",
    "    def roman(rom_num):\n",
    "        \"\"\"\n",
    "        Converts a roman numeral to an integer\n",
    "        \n",
    "        :rom_num: string- the roman numeral that the user wants converted \n",
    "        \n",
    "        :returns an integer of the roman numeral \n",
    "        \"\"\"\n",
    "        continuous = 0\n",
    "        r_dict = {'I': 1, 'V': 5, 'X': 10, 'L': 50, 'C': 100, 'D': 500, 'M': 1000}\n",
    "        past = 0\n",
    "        for let in rom_num:\n",
    "            if r_dict[let] > past:\n",
    "                continuous += r_dict[let] - (2 * past)\n",
    "            else:\n",
    "                continuous += r_dict[let]\n",
    "            past = r_dict[let]\n",
    "        return continuous "
   ]
  },
  {
   "cell_type": "code",
   "execution_count": 32,
   "metadata": {},
   "outputs": [
    {
     "data": {
      "text/plain": [
       "14"
      ]
     },
     "execution_count": 32,
     "metadata": {},
     "output_type": "execute_result"
    }
   ],
   "source": [
    "rom_num = \"XIV\"\n",
    "ConvertToInteger.roman(rom_num)"
   ]
  }
 ],
 "metadata": {
  "kernelspec": {
   "display_name": "Python 3",
   "language": "python",
   "name": "python3"
  },
  "language_info": {
   "codemirror_mode": {
    "name": "ipython",
    "version": 3
   },
   "file_extension": ".py",
   "mimetype": "text/x-python",
   "name": "python",
   "nbconvert_exporter": "python",
   "pygments_lexer": "ipython3",
   "version": "3.8.8"
  }
 },
 "nbformat": 4,
 "nbformat_minor": 2
}
